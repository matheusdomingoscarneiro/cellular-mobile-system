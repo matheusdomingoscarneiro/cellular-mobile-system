{
 "cells": [
  {
   "cell_type": "code",
   "execution_count": 115,
   "id": "d3041016-00a5-479b-a36f-2538b4efe688",
   "metadata": {},
   "outputs": [],
   "source": [
    "class AccessPoint:\n",
    "\n",
    "    def __init__(self, position_ = [0, 0]):\n",
    "\n",
    "        self.position = position_"
   ]
  },
  {
   "cell_type": "code",
   "execution_count": 116,
   "id": "1fdd31d7-bd0a-4ce9-b778-5d3dc60eedf9",
   "metadata": {},
   "outputs": [],
   "source": [
    "# Models the UEs\n",
    "class UserEquipment:\n",
    "    \n",
    "    def __init__(self, power_ = 1, position_ = [0, 0]): # UE transmission power is 1 W by standard\n",
    "        \n",
    "        # Distance is sorted randomly in a 1000x1000m area \n",
    "        self.distance\n",
    "        \n",
    "        self.power = power_"
   ]
  },
  {
   "cell_type": "code",
   "execution_count": 117,
   "id": "50ed6141-93b6-4a4d-89ca-b1afcb3b0d8d",
   "metadata": {},
   "outputs": [],
   "source": [
    "import numpy as np\n",
    "\n",
    "area_side = 1000\n",
    "\n",
    "class Plots:\n",
    "    \n",
    "    def __init__(self, AP_quantity_, UE_quantity_):\n",
    "\n",
    "        self.AP_quantity = AP_quantity_\n",
    "        self.AP_list = []\n",
    "        \n",
    "        self.UE_quantity = UE_quantity_\n",
    "        self.AP_list = []\n",
    "        \n",
    "        if np.sqrt(self.AP_quantity).is_integer():\n",
    "            \n",
    "            y_ = area_side / (2 * np.sqrt(self.AP_quantity)) \n",
    "        \n",
    "            for i in range(int(np.sqrt(self.AP_quantity))):\n",
    "\n",
    "                x_ = area_side / (2 * np.sqrt(self.AP_quantity)) \n",
    "                addition = 2 * x_\n",
    "                \n",
    "                for i in range(int(np.sqrt(self.AP_quantity))):\n",
    "                    self.AP_list.append(AccessPoint([x_, y_]))\n",
    "                    x_ += addition\n",
    "\n",
    "                y_ += addition\n",
    "                \n",
    "            for j in range(quantity_):\n",
    "                \n",
    "                self.UE_list.append(User_Equipment)"
   ]
  },
  {
   "cell_type": "code",
   "execution_count": 118,
   "id": "783ce57e-6a24-465a-8517-93c4b16ad151",
   "metadata": {},
   "outputs": [
    {
     "name": "stdout",
     "output_type": "stream",
     "text": [
      "500.0 500.0\n"
     ]
    },
    {
     "data": {
      "image/png": "[encoded data removed]",
      "text/plain": [
       "<Figure size 640x480 with 1 Axes>"
      ]
     },
     "metadata": {},
     "output_type": "display_data"
    }
   ],
   "source": [
    "from matplotlib import pyplot as plt\n",
    "\n",
    "p = Plots(1)\n",
    "\n",
    "for k in range(len(p.AP_list)):\n",
    "    plt.plot(p.AP_list[k].position[0], p.AP_list[k].position[1], 'o')\n",
    "    print(p.AP_list[k].position[0], p.AP_list[k].position[1])\n",
    "\n",
    "plt.xlim(0, 1000)\n",
    "plt.ylim(0, 1000)\n",
    "plt.show()"
   ]
  }
 ],
 "metadata": {
  "kernelspec": {
   "display_name": "Python 3 (ipykernel)",
   "language": "python",
   "name": "python3"
  },
  "language_info": {
   "codemirror_mode": {
    "name": "ipython",
    "version": 3
   },
   "file_extension": ".py",
   "mimetype": "text/x-python",
   "name": "python",
   "nbconvert_exporter": "python",
   "pygments_lexer": "ipython3",
   "version": "3.12.2"
  }
 },
 "nbformat": 4,
 "nbformat_minor": 5
}
