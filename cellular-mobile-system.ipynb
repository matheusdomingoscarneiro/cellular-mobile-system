{
 "cells": [
  {
   "cell_type": "code",
   "execution_count": 73,
   "id": "d5cb3448",
   "metadata": {},
   "outputs": [],
   "source": [
    "import numpy as np\n",
    "from matplotlib import pyplot as plt"
   ]
  },
  {
   "cell_type": "code",
   "execution_count": 74,
   "id": "72634dc1-4b7e-420b-bb9b-ad0e9b071f5e",
   "metadata": {},
   "outputs": [],
   "source": [
    "# reference distance (meters)\n",
    "d0 = 1 \n",
    "# constant for particular propagation enviroment\n",
    "k = 1e-4\n",
    "# path loss exponent\n",
    "n = 4\n",
    "# total available bandwidth (Hz)\n",
    "b_t = 100 * 1e6\n",
    "# constant for noise power (W/Hz)\n",
    "k_0 = 1e-20\n",
    "# Side of total area (meters)\n",
    "area_side = 1000"
   ]
  },
  {
   "cell_type": "code",
   "execution_count": 75,
   "id": "06a8721f-ca65-421f-9714-ad52df99f8b4",
   "metadata": {},
   "outputs": [],
   "source": [
    "def lin2db(x):\n",
    "    return 10.0*np.log10(x)\n",
    "\n",
    "def db2lin(x):\n",
    "    return 10.0**(x/10.0)\n",
    "\n",
    "def lin2dbm(x):\n",
    "    return 10.0*np.log10(x)+30.0\n",
    "\n",
    "def dbm2lin(x):\n",
    "    return 10.0**(x/10.0 - 3.0)\n",
    "\n",
    "#####################################################################################################\n",
    "\n",
    "def distance(AP_position):\n",
    "    x_position = np.random.rand()*1e3\n",
    "    y_position = np.random.rand()*1e3\n",
    "    return np.linalg.norm(np.array([x_position, y_position])\n",
    "                          - np.array(AP_position))\n",
    "\n",
    "def received_power(transmitted_power, distance):\n",
    "    return transmitted_power * (k / (distance**n))\n",
    "    \n",
    "def bandwidth_channel(total_bandwidth, channels_quantity):\n",
    "    return total_bandwidth / channels_quantity\n",
    "\n",
    "def noise_power(total_bandwidth, channels_quantity):\n",
    "    return k_0 * bandwidth_channel(total_bandwidth, channels_quantity)\n",
    "\n",
    "def calculate_SNR(user_power, noise_power):\n",
    "    return user_power / noise_power\n",
    "\n",
    "def calculate_SINR(user_power, interference_power, noise_power):\n",
    "    return user_power / (interference_power + noise_power)\n",
    "\n",
    "##################################################################################################\n",
    "\n",
    "def eCDF(data):\n",
    "    x = np.sort(data)\n",
    "    y = np.arange(0, len(data)) / len(data)\n",
    "\n",
    "    return x, y  "
   ]
  },
  {
   "cell_type": "code",
   "execution_count": 76,
   "id": "97cec24c",
   "metadata": {},
   "outputs": [],
   "source": [
    "# Models the UEs\n",
    "class UserEquipment:\n",
    "    \n",
    "    def __init__(self, power_ = 1): # UE transmission power is 1 W by standard\n",
    "        \n",
    "        # Distance is sorted randomly in a 1000x1000m area \n",
    "        self.distance2AP = distance([500, 500])\n",
    "        \n",
    "        self.power = power_"
   ]
  },
  {
   "cell_type": "code",
   "execution_count": 77,
   "id": "0c1f7f16-76cd-44cd-b755-18ba4a4d504b",
   "metadata": {},
   "outputs": [],
   "source": [
    "class AccessPoint:\n",
    "\n",
    "    def __init__(self, position_ = [0, 0]):\n",
    "\n",
    "        self.position = position_"
   ]
  },
  {
   "cell_type": "code",
   "execution_count": null,
   "id": "c6ffc60b-6f6b-408f-b78d-51d071c01c94",
   "metadata": {},
   "outputs": [],
   "source": [
    "class Plots:\n",
    "    \n",
    "    def __init__(self, AP_quantity):\n",
    "\n",
    "        self.quantity = AP_quantity\n",
    "        \n",
    "        self.AP_list = []\n",
    "        \n",
    "        if np.sqrt(AP_quantity).is_integer():\n",
    "            \n",
    "            y_ = area_side / (2 * np.sqrt(AP_quantity)) \n",
    "                \n",
    "            for i in range(int(np.sqrt(AP_quantity))):\n",
    "\n",
    "                x_ = area_side / (2 * np.sqrt(AP_quantity)) \n",
    "                addition = 2 * x_\n",
    "                \n",
    "                for i in range(int(np.sqrt(AP_quantity))):\n",
    "                    self.AP_list.append(AccessPoint([x_, y_]))\n",
    "                    x_ += addition\n",
    "\n",
    "                y_ += addition\n",
    "\n",
    "            "
   ]
  },
  {
   "cell_type": "code",
   "execution_count": 78,
   "id": "7d93a437",
   "metadata": {},
   "outputs": [],
   "source": [
    "# Creates and stores the UES\n",
    "class UserPlot:\n",
    "    \n",
    "    def __init__(self, quantity_):\n",
    "        \n",
    "        self.quantity = quantity_\n",
    "        \n",
    "        # list of powers receiveds by AP (watts)\n",
    "        self.users_received_power = np.zeros(quantity_)\n",
    "        \n",
    "        for i in range(quantity_):\n",
    "            temp_user = UserEquipment()\n",
    "            if temp_user.distance2AP >= d0:\n",
    "                self.users_received_power[i] = received_power(temp_user.power, \n",
    "                                                              temp_user.distance2AP)"
   ]
  },
  {
   "cell_type": "code",
   "execution_count": 79,
   "id": "c7bb1c7b",
   "metadata": {},
   "outputs": [],
   "source": [
    "# Admiting only 1 channel, the noise power\n",
    "noise_p = noise_power(b_t, 1)\n",
    "\n",
    "# Models a System to manage the link between UE and AP\n",
    "class LinkSystem:\n",
    "    \n",
    "    def __init__(self, users_):\n",
    "        \n",
    "        if isinstance(users_, UserPlot):\n",
    "            \n",
    "            self.SNR_list = np.zeros(len(users_.users_received_power))\n",
    "            self.SINR_list = np.zeros(len(users_.users_received_power))\n",
    "            self.capacity_list = np.zeros(len(self.SINR_list))\n",
    "            \n",
    "            # Calculating SNR\n",
    "            for user_power in range(len(users_.users_received_power)):\n",
    "                self.SNR_list[user_power] = lin2db(calculate_SNR(users_.users_received_power[user_power], \n",
    "                                                                 noise_p))\n",
    "                \n",
    "            # Calculating SINR\n",
    "            for user_power_ in range(len(users_.users_received_power)):\n",
    "                auxiliar_received_power = list(users_.users_received_power)\n",
    "                UE_used = users_.users_received_power[user_power_]\n",
    "                auxiliar_received_power.pop(user_power_)\n",
    "                interfering_sum = sum(auxiliar_received_power)\n",
    "                \n",
    "                self.SINR_list[user_power_] = lin2db(UE_used / (interfering_sum + noise_p))\n",
    "                \n",
    "                # self.SINR_list[user_] = lin2db(calculate_SINR(UE_used, interfering_sum, noise_p))\n",
    "    \n",
    "            # Calculating Capacity\n",
    "            for user_SINR_ in range(len(self.SINR_list)):\n",
    "                bandwidth_ = bandwidth_channel(b_t, 10)\n",
    "                self.capacity_list[user_SINR_] = (bandwidth_ \n",
    "                                                  * (np.log2(1 \n",
    "                                                  + db2lin(self.SINR_list[user_SINR_]))) \n",
    "                                                  / 1e6)\n",
    "                "
   ]
  },
  {
   "cell_type": "code",
   "execution_count": 80,
   "id": "afdd775a-5337-44ef-8159-b17c9e98a6ad",
   "metadata": {},
   "outputs": [],
   "source": [
    "# Simulation parameters\n",
    "\n",
    "iteracoes = 1000 # The quantity of simulations\n",
    "users_quantity = 100"
   ]
  },
  {
   "cell_type": "code",
   "execution_count": 81,
   "id": "6363676c",
   "metadata": {},
   "outputs": [],
   "source": [
    "total_SNR = []\n",
    "total_SINR = []\n",
    "total_capacity = []\n",
    "\n",
    "for inter in range(iteracoes):\n",
    "    # Creates many Users at once\n",
    "    users = UserPlot(users_quantity)\n",
    "    \n",
    "    # The SNR and SINR of users\n",
    "    system = LinkSystem(users)\n",
    "    \n",
    "    total_SNR = np.concatenate((total_SNR, system.SNR_list))\n",
    "    \n",
    "    total_SINR = np.concatenate((total_SINR, system.SINR_list))\n",
    "    \n",
    "    total_capacity = np.concatenate((total_capacity, system.capacity_list))\n"
   ]
  },
  {
   "cell_type": "code",
   "execution_count": 82,
   "id": "d5e57525",
   "metadata": {
    "scrolled": true
   },
   "outputs": [
    {
     "data": {
      "image/png": "[encoded data removed]",
      "text/plain": [
       "<Figure size 640x480 with 1 Axes>"
      ]
     },
     "metadata": {},
     "output_type": "display_data"
    }
   ],
   "source": [
    "capacityCDF = eCDF(total_capacity)\n",
    "\n",
    "plt.title('CDF da Capacidade')\n",
    "plt.xlabel('Capacity (Mbps)')\n",
    "plt.ylabel('CDF')\n",
    "\n",
    "plt.plot(capacityCDF[0], capacityCDF[1])\n",
    "plt.show()"
   ]
  }
 ],
 "metadata": {
  "kernelspec": {
   "display_name": "Python 3 (ipykernel)",
   "language": "python",
   "name": "python3"
  },
  "language_info": {
   "codemirror_mode": {
    "name": "ipython",
    "version": 3
   },
   "file_extension": ".py",
   "mimetype": "text/x-python",
   "name": "python",
   "nbconvert_exporter": "python",
   "pygments_lexer": "ipython3",
   "version": "3.12.2"
  }
 },
 "nbformat": 4,
 "nbformat_minor": 5
}
