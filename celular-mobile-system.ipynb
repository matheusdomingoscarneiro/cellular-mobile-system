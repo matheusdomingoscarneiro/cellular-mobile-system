{
 "cells": [
  {
   "cell_type": "code",
   "execution_count": 179,
   "id": "d5cb3448",
   "metadata": {},
   "outputs": [],
   "source": [
    "import numpy as np\n",
    "from matplotlib import pyplot as plt\n",
    "\n",
    "# reference distance (meters)\n",
    "d0 = 1 \n",
    "# constant for particular propagation enviroment\n",
    "k = 1e-4\n",
    "# path loss exponent\n",
    "n = 4\n",
    "# total available bandwith (Hz)\n",
    "b_t = 100 * 1e6\n",
    "# constant for noise power (W/Hz)\n",
    "k_0 = 1e-20\n",
    "\n",
    "def lin2db(x):\n",
    "    return 10.0*np.log10(x)\n",
    "\n",
    "def db2lin(x):\n",
    "    return 10.0**(x/10.0)\n",
    "\n",
    "def lin2dbm(x):\n",
    "    return 10.0*np.log10(x)+30.0\n",
    "\n",
    "def dbm2lin(x):\n",
    "    return 10.0**(x/10.0 - 3.0)\n",
    "\n",
    "def bandwith4channel(total_bandwith, channels_quantity):\n",
    "    return total_bandwith / channels_quantity\n",
    "\n",
    "def received_power(transmitted_power, distance):\n",
    "    return transmitted_power * (k / (distance**n))\n",
    "\n",
    "def noise_power(total_bandwith, channels_quantity):\n",
    "    return k_0 * bandwith4channel(total_bandwith, channels_quantity)"
   ]
  },
  {
   "cell_type": "code",
   "execution_count": 180,
   "id": "97cec24c",
   "metadata": {},
   "outputs": [],
   "source": [
    "# Models the UEs\n",
    "class UserEquipment:\n",
    "    def __init__(self, power_ = 1): # UE transmission power is 1 W by standard\n",
    "        # Distance is sorted randomly in a 1000x1000m area \n",
    "        self.distance2AP = np.sqrt((np.random.rand()*1e3 - 500)**2 \n",
    "                                    + (np.random.rand()*1e3 - 500)**2) \n",
    "        \n",
    "        self.power = power_"
   ]
  },
  {
   "cell_type": "code",
   "execution_count": 181,
   "id": "7d93a437",
   "metadata": {},
   "outputs": [],
   "source": [
    "# Creates and stores the UES\n",
    "class UserGenerator:\n",
    "    def __init__(self, quantity_):\n",
    "        self.quantity = quantity_\n",
    "        \n",
    "        # list of powers receiveds by AP (watts)\n",
    "        self.users_power = np.zeros(quantity_)\n",
    "        \n",
    "        for i in range(quantity_):\n",
    "            temp_user = UserEquipment()\n",
    "            if temp_user.distance2AP >= d0:\n",
    "                self.users_power[i] = received_power(temp_user.power, \n",
    "                                                     temp_user.distance2AP)\n",
    "                \n",
    "        # Allocating channels\n",
    "        self.channels = {0:[], 1:[], 2:[], 3:[], 4:[], 5:[], 6:[], 7:[], 8:[], 9:[]}\n",
    "        \n",
    "        aux_channel = 0\n",
    "        for value in range(len(self.users_power)):\n",
    "            if aux_channel <= len(self.channels) - 1:\n",
    "                self.channels[aux_channel].append(self.users_power[value])\n",
    "                aux_channel += 1\n",
    "            else:\n",
    "                aux_channel = 1\n",
    "                self.channels[aux_channel].append(self.users_power[value])\n",
    "                \n",
    "        print(self.channels)"
   ]
  },
  {
   "cell_type": "code",
   "execution_count": 182,
   "id": "c7bb1c7b",
   "metadata": {},
   "outputs": [],
   "source": [
    "# Admiting only 1 channel, the noise power\n",
    "noise_p = noise_power(b_t, 10)\n",
    "\n",
    "# Models a System to manage the link between UE and AP\n",
    "class LinkSystem:\n",
    "    def __init__(self, users_generator_):\n",
    "        if isinstance(users_generator_, UserGenerator):\n",
    "            self.SNR_list = np.zeros(len(users_generator_.users_power))\n",
    "            self.SINR_list = np.zeros(len(users_generator_.users_power))\n",
    "            self.capacity_list = np.zeros(len(self.SINR_list))\n",
    "            \n",
    "            # Calculating SNR\n",
    "            for user_ in range(len(users_generator_.users_power)):\n",
    "                self.SNR_list[user_] = lin2db(users_generator_.users_power[user_]) / lin2db(noise_p)\n",
    "            \n",
    "            for ch in range(len(users_generator_.channels)):\n",
    "                # Calculating SINR\n",
    "                for user__ in range(len(users_generator_.channels[ch])):\n",
    "                    auxiliar_received_power = list(users_generator_.channels[ch])\n",
    "                    print(user__)\n",
    "                    UE_used = users_generator_.channels[ch][user__]\n",
    "                    users_generator_.channels[ch].pop(user__)\n",
    "                    interfering_sum = sum(auxiliar_received_power)\n",
    "                    self.SINR_list[user__] = lin2db(UE_used) / (lin2db(interfering_sum) + lin2db(noise_p))\n",
    "\n",
    "            print(self.SINR_list) \n",
    "                \n",
    "                # Calculating Capacity\n",
    "                # for user_SINR_ in range(len(self.SINR_list)):\n",
    "                #    bandwith_ = bandwith4channel(b_t, 10)\n",
    "                #    self.capacity_list[user_SINR_] = (bandwith_ * np.log2(1 + db2lin(self.SINR_list[user_SINR_]))) / 1e6"
   ]
  },
  {
   "cell_type": "code",
   "execution_count": 183,
   "id": "6363676c",
   "metadata": {
    "scrolled": false
   },
   "outputs": [
    {
     "name": "stdout",
     "output_type": "stream",
     "text": [
      "400.0985473710563 1\n",
      "{0: [3.4774319718210178e-15], 1: [7.628961866655426e-16, 1.0761639254996356e-14, 2.175530560267162e-15], 2: [1.2190161508033646e-14, 4.528891232005756e-15], 3: [1.6695962165767904e-14, 1.2504742397181438e-13], 4: [2.7682534793588362e-14, 1.0339675047872456e-13], 5: [1.085130729918292e-14, 9.836445371681153e-16], 6: [8.00998803451391e-15, 8.389578797833887e-14], 7: [1.7193221795684427e-14, 6.2808117092849355e-15], 8: [9.208728554159088e-16, 1.283113360221008e-12], 9: [3.5841844005427424e-15, 1.358547740104188e-15]}\n",
      "0\n",
      "0\n",
      "1\n",
      "2\n"
     ]
    },
    {
     "ename": "IndexError",
     "evalue": "list index out of range",
     "output_type": "error",
     "traceback": [
      "\u001b[1;31m---------------------------------------------------------------------------\u001b[0m",
      "\u001b[1;31mIndexError\u001b[0m                                Traceback (most recent call last)",
      "Cell \u001b[1;32mIn[183], line 15\u001b[0m\n\u001b[0;32m     12\u001b[0m users \u001b[38;5;241m=\u001b[39m UserGenerator(\u001b[38;5;241m20\u001b[39m)\n\u001b[0;32m     14\u001b[0m \u001b[38;5;66;03m# The SNR and SINR of users\u001b[39;00m\n\u001b[1;32m---> 15\u001b[0m system \u001b[38;5;241m=\u001b[39m \u001b[43mLinkSystem\u001b[49m\u001b[43m(\u001b[49m\u001b[43musers\u001b[49m\u001b[43m)\u001b[49m\n\u001b[0;32m     17\u001b[0m total_SNR \u001b[38;5;241m=\u001b[39m np\u001b[38;5;241m.\u001b[39mconcatenate((total_SNR, system\u001b[38;5;241m.\u001b[39mSNR_list))\n\u001b[0;32m     19\u001b[0m total_SINR \u001b[38;5;241m=\u001b[39m np\u001b[38;5;241m.\u001b[39mconcatenate((total_SINR, system\u001b[38;5;241m.\u001b[39mSINR_list))\n",
      "Cell \u001b[1;32mIn[182], line 21\u001b[0m, in \u001b[0;36mLinkSystem.__init__\u001b[1;34m(self, users_generator_)\u001b[0m\n\u001b[0;32m     19\u001b[0m auxiliar_received_power \u001b[38;5;241m=\u001b[39m \u001b[38;5;28mlist\u001b[39m(users_generator_\u001b[38;5;241m.\u001b[39mchannels[ch])\n\u001b[0;32m     20\u001b[0m \u001b[38;5;28mprint\u001b[39m(user__)\n\u001b[1;32m---> 21\u001b[0m UE_used \u001b[38;5;241m=\u001b[39m \u001b[43musers_generator_\u001b[49m\u001b[38;5;241;43m.\u001b[39;49m\u001b[43mchannels\u001b[49m\u001b[43m[\u001b[49m\u001b[43mch\u001b[49m\u001b[43m]\u001b[49m\u001b[43m[\u001b[49m\u001b[43muser__\u001b[49m\u001b[43m]\u001b[49m\n\u001b[0;32m     22\u001b[0m users_generator_\u001b[38;5;241m.\u001b[39mchannels[ch]\u001b[38;5;241m.\u001b[39mpop(user__)\n\u001b[0;32m     23\u001b[0m interfering_sum \u001b[38;5;241m=\u001b[39m \u001b[38;5;28msum\u001b[39m(auxiliar_received_power)\n",
      "\u001b[1;31mIndexError\u001b[0m: list index out of range"
     ]
    }
   ],
   "source": [
    "# Create a UE using UserEquipment class\n",
    "UE1 = UserEquipment()\n",
    "print(UE1.distance2AP, UE1.power)\n",
    "\n",
    "iteracoes = 1\n",
    "total_SNR = []\n",
    "total_SINR = []\n",
    "total_capacity = []\n",
    "\n",
    "for inter in range(iteracoes):\n",
    "    # Creates many Users at once\n",
    "    users = UserGenerator(20)\n",
    "    \n",
    "    # The SNR and SINR of users\n",
    "    system = LinkSystem(users)\n",
    "    \n",
    "    total_SNR = np.concatenate((total_SNR, system.SNR_list))\n",
    "    \n",
    "    total_SINR = np.concatenate((total_SINR, system.SINR_list))\n",
    "    \n",
    "    total_capacity = np.concatenate((total_capacity, system.capacity_list))\n",
    "    \n",
    "print(np.sort(total_capacity))"
   ]
  },
  {
   "cell_type": "code",
   "execution_count": null,
   "id": "d5e57525",
   "metadata": {},
   "outputs": [],
   "source": [
    "x = np.sort(total_capacity)\n",
    "y = np.arange(0, len(total_capacity)) / len(total_capacity)\n",
    "\n",
    "plt.xlabel('capacity (Mbps)')\n",
    "plt.ylabel('CDF')\n",
    "\n",
    "plt.plot(x, y)\n",
    "plt.show()"
   ]
  },
  {
   "cell_type": "code",
   "execution_count": null,
   "id": "d77ba3c6",
   "metadata": {},
   "outputs": [],
   "source": []
  }
 ],
 "metadata": {
  "kernelspec": {
   "display_name": "Python 3 (ipykernel)",
   "language": "python",
   "name": "python3"
  },
  "language_info": {
   "codemirror_mode": {
    "name": "ipython",
    "version": 3
   },
   "file_extension": ".py",
   "mimetype": "text/x-python",
   "name": "python",
   "nbconvert_exporter": "python",
   "pygments_lexer": "ipython3",
   "version": "3.10.9"
  }
 },
 "nbformat": 4,
 "nbformat_minor": 5
}
