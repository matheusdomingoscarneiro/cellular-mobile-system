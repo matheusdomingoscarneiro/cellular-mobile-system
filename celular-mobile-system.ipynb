{
 "cells": [
  {
   "cell_type": "code",
   "execution_count": 87,
   "id": "d5cb3448",
   "metadata": {},
   "outputs": [],
   "source": [
    "import numpy as np\n",
    "from matplotlib import pyplot as plt"
   ]
  },
  {
   "cell_type": "code",
   "execution_count": 88,
   "id": "72634dc1-4b7e-420b-bb9b-ad0e9b071f5e",
   "metadata": {},
   "outputs": [],
   "source": [
    "# reference distance (meters)\n",
    "d0 = 1 \n",
    "# constant for particular propagation enviroment\n",
    "k = 1e-4\n",
    "# path loss exponent\n",
    "n = 4\n",
    "# total available bandwith (Hz)\n",
    "b_t = 100 * 1e6\n",
    "# constant for noise power (W/Hz)\n",
    "k_0 = 1e-20"
   ]
  },
  {
   "cell_type": "code",
   "execution_count": 89,
   "id": "06a8721f-ca65-421f-9714-ad52df99f8b4",
   "metadata": {},
   "outputs": [],
   "source": [
    "def lin2db(x):\n",
    "    return 10.0*np.log10(x)\n",
    "\n",
    "def db2lin(x):\n",
    "    return 10.0**(x/10.0)\n",
    "\n",
    "def lin2dbm(x):\n",
    "    return 10.0*np.log10(x)+30.0\n",
    "\n",
    "def dbm2lin(x):\n",
    "    return 10.0**(x/10.0 - 3.0)\n",
    "\n",
    "#####################################################################################################\n",
    "    \n",
    "def received_power(transmitted_power, distance):\n",
    "    return transmitted_power * (k / (distance**n))\n",
    "    \n",
    "def bandwith_channel(total_bandwith, channels_quantity):\n",
    "    return total_bandwith / channels_quantity\n",
    "\n",
    "def noise_power(total_bandwith, channels_quantity):\n",
    "    return k_0 * bandwith_channel(total_bandwith, channels_quantity)\n",
    "\n",
    "##################################################################################################\n",
    "\n",
    "def eCDF(data):\n",
    "    x = np.sort(data)\n",
    "    y = np.arange(0, len(data)) / len(data)\n",
    "\n",
    "    return x, y  "
   ]
  },
  {
   "cell_type": "code",
   "execution_count": 90,
   "id": "97cec24c",
   "metadata": {},
   "outputs": [],
   "source": [
    "# Models the UEs\n",
    "class UserEquipment:\n",
    "    \n",
    "    def __init__(self, power_ = 1): # UE transmission power is 1 W by standard\n",
    "        \n",
    "        # Distance is sorted randomly in a 1000x1000m area \n",
    "        self.distance2AP = np.sqrt((np.random.rand()*1e3 - 500)**2 \n",
    "                                    + (np.random.rand()*1e3 - 500)**2) \n",
    "        \n",
    "        self.power = power_"
   ]
  },
  {
   "cell_type": "code",
   "execution_count": 91,
   "id": "7d93a437",
   "metadata": {},
   "outputs": [],
   "source": [
    "# Creates and stores the UES\n",
    "class UserGenerator:\n",
    "    \n",
    "    def __init__(self, quantity_):\n",
    "        \n",
    "        self.quantity = quantity_\n",
    "        \n",
    "        # list of powers receiveds by AP (watts)\n",
    "        self.users_power = np.zeros(quantity_)\n",
    "        \n",
    "        for i in range(quantity_):\n",
    "            temp_user = UserEquipment()\n",
    "            if temp_user.distance2AP >= d0:\n",
    "                self.users_power[i] = received_power(temp_user.power, \n",
    "                                                     temp_user.distance2AP)"
   ]
  },
  {
   "cell_type": "code",
   "execution_count": 92,
   "id": "c7bb1c7b",
   "metadata": {},
   "outputs": [],
   "source": [
    "# Admiting only 1 channel, the noise power\n",
    "noise_p = noise_power(b_t, 1)\n",
    "\n",
    "# Models a System to manage the link between UE and AP\n",
    "class LinkSystem:\n",
    "    \n",
    "    def __init__(self, users_generator_):\n",
    "        \n",
    "        if isinstance(users_generator_, UserGenerator):\n",
    "            \n",
    "            self.SNR_list = np.zeros(len(users_generator_.users_power))\n",
    "            self.SINR_list = np.zeros(len(users_generator_.users_power))\n",
    "            self.capacity_list = np.zeros(len(self.SINR_list))\n",
    "            \n",
    "            # Calculating SNR\n",
    "            for user_ in range(len(users_generator_.users_power)):\n",
    "                self.SNR_list[user_] = lin2db(users_generator_.users_power[user_]) - lin2db(noise_p)            \n",
    "    \n",
    "            # Calculating SINR\n",
    "            for user__ in range(len(users_generator_.users_power)):\n",
    "                auxiliar_received_power = list(users_generator_.users_power)\n",
    "                UE_used = users_generator_.users_power[user__]\n",
    "                auxiliar_received_power.pop(user__)\n",
    "                interfering_sum = sum(auxiliar_received_power)\n",
    "                \n",
    "                self.SINR_list[user__] = (lin2db(UE_used) \n",
    "                                          - lin2db(interfering_sum) \n",
    "                                          - lin2db(noise_p))\n",
    "    \n",
    "            # Calculating Capacity\n",
    "            for user_SINR_ in range(len(self.SINR_list)):\n",
    "                bandwith_ = bandwith_channel(b_t, 10)\n",
    "                self.capacity_list[user_SINR_] = (bandwith_ * np.log2(1 + db2lin(self.SINR_list[user_SINR_]))) / 1e6"
   ]
  },
  {
   "cell_type": "code",
   "execution_count": 93,
   "id": "6363676c",
   "metadata": {},
   "outputs": [
    {
     "name": "stdout",
     "output_type": "stream",
     "text": [
      "[101.14194571 105.1502537  105.24716763 ... 579.57937171 587.06516182\n",
      " 587.28084467]\n"
     ]
    }
   ],
   "source": [
    "iteracoes = 1000\n",
    "\n",
    "def simulate(iteracoes):\n",
    "\n",
    "    total_SNR = []\n",
    "    total_SINR = []\n",
    "    total_capacity = []\n",
    "    \n",
    "    for inter in range(iteracoes):\n",
    "        # Creates many Users at once\n",
    "        users = UserGenerator(20)\n",
    "        \n",
    "        # The SNR and SINR of users\n",
    "        system = LinkSystem(users)\n",
    "        \n",
    "        total_SNR = np.concatenate((total_SNR, system.SNR_list))\n",
    "        \n",
    "        total_SINR = np.concatenate((total_SINR, system.SINR_list))\n",
    "        \n",
    "        total_capacity = np.concatenate((total_capacity, system.capacity_list))"
   ]
  },
  {
   "cell_type": "code",
   "execution_count": 94,
   "id": "d5e57525",
   "metadata": {},
   "outputs": [
    {
     "data": {
      "image/png": "[encoded data removed]",
      "text/plain": [
       "<Figure size 640x480 with 1 Axes>"
      ]
     },
     "metadata": {},
     "output_type": "display_data"
    }
   ],
   "source": [
    "capacityCDF = eCDF(total_capacity)\n",
    "\n",
    "plt.title('CDF da Capacidade')\n",
    "plt.xlabel('Capacity (Mbps)')\n",
    "plt.ylabel('CDF')\n",
    "\n",
    "plt.plot(capacityCDF[0], capacityCDF[1])\n",
    "plt.show()"
   ]
  }
 ],
 "metadata": {
  "kernelspec": {
   "display_name": "Python 3 (ipykernel)",
   "language": "python",
   "name": "python3"
  },
  "language_info": {
   "codemirror_mode": {
    "name": "ipython",
    "version": 3
   },
   "file_extension": ".py",
   "mimetype": "text/x-python",
   "name": "python",
   "nbconvert_exporter": "python",
   "pygments_lexer": "ipython3",
   "version": "3.12.2"
  }
 },
 "nbformat": 4,
 "nbformat_minor": 5
}
